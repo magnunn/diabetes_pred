{
 "cells": [
  {
   "cell_type": "code",
   "execution_count": null,
   "id": "aac8b55d",
   "metadata": {},
   "outputs": [],
   "source": [
    "#This notebook contains the script to build a ML model simplified to deploy a more user friendly web app"
   ]
  },
  {
   "cell_type": "markdown",
   "id": "a853ee26",
   "metadata": {},
   "source": [
    "# 0.1 Imports"
   ]
  },
  {
   "cell_type": "code",
   "execution_count": 1,
   "id": "4fbe35cf",
   "metadata": {
    "ExecuteTime": {
     "end_time": "2022-07-19T04:57:41.225354Z",
     "start_time": "2022-07-19T04:57:40.338150Z"
    }
   },
   "outputs": [],
   "source": [
    "import pandas as pd\n",
    "import pickle\n",
    "import random\n",
    "import warnings\n",
    "\n",
    "from imblearn.over_sampling import SMOTE\n",
    "\n",
    "\n",
    "from sklearn.linear_model import LogisticRegression\n",
    "from sklearn.metrics import accuracy_score, confusion_matrix, classification_report\n",
    "from sklearn.model_selection import KFold,cross_val_score, RepeatedStratifiedKFold,StratifiedKFold, StratifiedShuffleSplit\n",
    "from sklearn.preprocessing import StandardScaler\n",
    "from time import time\n",
    "\n",
    "\n",
    "warnings.filterwarnings(\"ignore\")"
   ]
  },
  {
   "cell_type": "markdown",
   "id": "191ca155",
   "metadata": {},
   "source": [
    "# 0.2 Functions"
   ]
  },
  {
   "cell_type": "code",
   "execution_count": 2,
   "id": "ae83060e",
   "metadata": {
    "ExecuteTime": {
     "end_time": "2022-07-19T04:57:42.756079Z",
     "start_time": "2022-07-19T04:57:42.750907Z"
    }
   },
   "outputs": [],
   "source": [
    "def compare_models (model, X_train, y_train, X_test, y_test, **keyargs):\n",
    "    ml = model.fit(X_train, y_train)\n",
    "    \n",
    "    y_lr_pred = ml.predict(X_test)\n",
    "    score_lr= accuracy_score(y_test,y_lr_pred)*100\n",
    "    print(\"MODEL PERFORMANCE:\")\n",
    "    print(\"train accuracy score: \",accuracy_score(y_train,ml.predict(X_train))*100)\n",
    "    print(\"test accuracy score: \",score_lr)\n",
    "\n",
    "    print(f\"\\n Confusion Matrix : \\n {confusion_matrix(y_test,y_lr_pred)} \\n\")\n",
    "    print(f\"Classiication Report : \\n {classification_report(y_test, y_lr_pred)}\")\n",
    "    \n",
    "    return None"
   ]
  },
  {
   "cell_type": "markdown",
   "id": "d3ce2552",
   "metadata": {},
   "source": [
    "# 0.3 Load data"
   ]
  },
  {
   "cell_type": "code",
   "execution_count": 3,
   "id": "f9a17e5c",
   "metadata": {
    "ExecuteTime": {
     "end_time": "2022-07-19T04:57:44.429285Z",
     "start_time": "2022-07-19T04:57:44.016958Z"
    }
   },
   "outputs": [],
   "source": [
    "df_raw = pd.read_csv('./Dataset/diabetes_binary_health_indicators_BRFSS2015.csv')"
   ]
  },
  {
   "cell_type": "markdown",
   "id": "e9410a46",
   "metadata": {
    "heading_collapsed": true
   },
   "source": [
    "# 2 Feature engineering"
   ]
  },
  {
   "cell_type": "markdown",
   "id": "38c72af8",
   "metadata": {
    "hidden": true
   },
   "source": [
    "Dropping features with low relevance and hard to be adjusted for other countries"
   ]
  },
  {
   "cell_type": "code",
   "execution_count": 4,
   "id": "bd6bc816",
   "metadata": {
    "ExecuteTime": {
     "end_time": "2022-07-19T04:57:47.082078Z",
     "start_time": "2022-07-19T04:57:47.068403Z"
    },
    "hidden": true
   },
   "outputs": [],
   "source": [
    "df_raw = df_raw.drop(['Income', 'Education', 'NoDocbcCost','AnyHealthcare', 'CholCheck', 'MentHlth', 'HeartDiseaseorAttack'], axis=1)"
   ]
  },
  {
   "cell_type": "markdown",
   "id": "f6f90810",
   "metadata": {
    "hidden": true
   },
   "source": [
    "Joining fetures with high correlation and simplifying our dashboard for users"
   ]
  },
  {
   "cell_type": "code",
   "execution_count": 5,
   "id": "00d49e50",
   "metadata": {
    "ExecuteTime": {
     "end_time": "2022-07-19T04:57:53.551012Z",
     "start_time": "2022-07-19T04:57:48.350820Z"
    },
    "hidden": true
   },
   "outputs": [],
   "source": [
    "df_raw['fruit_veggi'] = df_raw.apply(lambda x: max(x['Fruits'],x['Veggies']),axis=1)\n",
    "df_raw = df_raw.drop(['Fruits', 'Veggies'], axis=1)"
   ]
  },
  {
   "cell_type": "code",
   "execution_count": 6,
   "id": "d642e880",
   "metadata": {
    "ExecuteTime": {
     "end_time": "2022-07-19T04:57:53.722463Z",
     "start_time": "2022-07-19T04:57:53.553863Z"
    },
    "hidden": true
   },
   "outputs": [],
   "source": [
    "df_raw['PhysHlth_clust'] = df_raw['PhysHlth'].apply(lambda x: 1 if x == 0 else\n",
    "                                                  2 if x < 6 else\n",
    "                                                  3 if x < 11 else\n",
    "                                                  4 if x < 16 else\n",
    "                                                  5 if x < 21 else 6)\n",
    "\n",
    "df_raw = df_raw.drop(['PhysHlth'], axis=1)"
   ]
  },
  {
   "cell_type": "markdown",
   "id": "c5e04398",
   "metadata": {
    "heading_collapsed": true
   },
   "source": [
    "# 3 Data preparation"
   ]
  },
  {
   "cell_type": "markdown",
   "id": "be223183",
   "metadata": {
    "ExecuteTime": {
     "end_time": "2022-06-05T00:13:16.854786Z",
     "start_time": "2022-06-05T00:13:16.851230Z"
    },
    "heading_collapsed": true,
    "hidden": true
   },
   "source": [
    "## 3.10 train/test split"
   ]
  },
  {
   "cell_type": "code",
   "execution_count": 7,
   "id": "a98fc964",
   "metadata": {
    "ExecuteTime": {
     "end_time": "2022-07-19T04:57:56.375086Z",
     "start_time": "2022-07-19T04:57:56.366682Z"
    },
    "hidden": true
   },
   "outputs": [],
   "source": [
    "df2 = df_raw.copy()"
   ]
  },
  {
   "cell_type": "code",
   "execution_count": 8,
   "id": "8ead255f",
   "metadata": {
    "ExecuteTime": {
     "end_time": "2022-07-19T04:57:56.866897Z",
     "start_time": "2022-07-19T04:57:56.746093Z"
    },
    "hidden": true
   },
   "outputs": [],
   "source": [
    "sss = StratifiedShuffleSplit(n_splits=1, test_size=0.2, random_state=42)\n",
    "for str_train_set_index, str_test_set_index in sss.split(df2,df2['Diabetes_binary']):\n",
    "    str_train_set = df2.iloc[str_train_set_index]\n",
    "    str_test_set = df2.iloc[str_test_set_index]"
   ]
  },
  {
   "cell_type": "code",
   "execution_count": 9,
   "id": "18118fef",
   "metadata": {
    "ExecuteTime": {
     "end_time": "2022-07-19T04:57:57.815327Z",
     "start_time": "2022-07-19T04:57:57.751320Z"
    },
    "hidden": true
   },
   "outputs": [
    {
     "data": {
      "text/html": [
       "<div>\n",
       "<style scoped>\n",
       "    .dataframe tbody tr th:only-of-type {\n",
       "        vertical-align: middle;\n",
       "    }\n",
       "\n",
       "    .dataframe tbody tr th {\n",
       "        vertical-align: top;\n",
       "    }\n",
       "\n",
       "    .dataframe thead th {\n",
       "        text-align: right;\n",
       "    }\n",
       "</style>\n",
       "<table border=\"1\" class=\"dataframe\">\n",
       "  <thead>\n",
       "    <tr style=\"text-align: right;\">\n",
       "      <th></th>\n",
       "      <th>Diabetes_binary</th>\n",
       "      <th>HighBP</th>\n",
       "      <th>HighChol</th>\n",
       "      <th>BMI</th>\n",
       "      <th>Smoker</th>\n",
       "      <th>Stroke</th>\n",
       "      <th>PhysActivity</th>\n",
       "      <th>HvyAlcoholConsump</th>\n",
       "      <th>GenHlth</th>\n",
       "      <th>DiffWalk</th>\n",
       "      <th>Sex</th>\n",
       "      <th>Age</th>\n",
       "      <th>fruit_veggi</th>\n",
       "      <th>PhysHlth_clust</th>\n",
       "    </tr>\n",
       "  </thead>\n",
       "  <tbody>\n",
       "    <tr>\n",
       "      <th>153147</th>\n",
       "      <td>0.0</td>\n",
       "      <td>0.0</td>\n",
       "      <td>0.0</td>\n",
       "      <td>28.0</td>\n",
       "      <td>1.0</td>\n",
       "      <td>0.0</td>\n",
       "      <td>1.0</td>\n",
       "      <td>0.0</td>\n",
       "      <td>2.0</td>\n",
       "      <td>0.0</td>\n",
       "      <td>1.0</td>\n",
       "      <td>2.0</td>\n",
       "      <td>1.0</td>\n",
       "      <td>1</td>\n",
       "    </tr>\n",
       "    <tr>\n",
       "      <th>176137</th>\n",
       "      <td>0.0</td>\n",
       "      <td>1.0</td>\n",
       "      <td>0.0</td>\n",
       "      <td>23.0</td>\n",
       "      <td>1.0</td>\n",
       "      <td>0.0</td>\n",
       "      <td>1.0</td>\n",
       "      <td>0.0</td>\n",
       "      <td>2.0</td>\n",
       "      <td>0.0</td>\n",
       "      <td>1.0</td>\n",
       "      <td>13.0</td>\n",
       "      <td>1.0</td>\n",
       "      <td>1</td>\n",
       "    </tr>\n",
       "    <tr>\n",
       "      <th>175578</th>\n",
       "      <td>0.0</td>\n",
       "      <td>1.0</td>\n",
       "      <td>1.0</td>\n",
       "      <td>29.0</td>\n",
       "      <td>0.0</td>\n",
       "      <td>0.0</td>\n",
       "      <td>1.0</td>\n",
       "      <td>0.0</td>\n",
       "      <td>1.0</td>\n",
       "      <td>0.0</td>\n",
       "      <td>1.0</td>\n",
       "      <td>9.0</td>\n",
       "      <td>1.0</td>\n",
       "      <td>1</td>\n",
       "    </tr>\n",
       "    <tr>\n",
       "      <th>177887</th>\n",
       "      <td>0.0</td>\n",
       "      <td>1.0</td>\n",
       "      <td>1.0</td>\n",
       "      <td>39.0</td>\n",
       "      <td>0.0</td>\n",
       "      <td>0.0</td>\n",
       "      <td>0.0</td>\n",
       "      <td>0.0</td>\n",
       "      <td>4.0</td>\n",
       "      <td>0.0</td>\n",
       "      <td>1.0</td>\n",
       "      <td>7.0</td>\n",
       "      <td>0.0</td>\n",
       "      <td>1</td>\n",
       "    </tr>\n",
       "    <tr>\n",
       "      <th>182143</th>\n",
       "      <td>0.0</td>\n",
       "      <td>0.0</td>\n",
       "      <td>1.0</td>\n",
       "      <td>16.0</td>\n",
       "      <td>1.0</td>\n",
       "      <td>0.0</td>\n",
       "      <td>1.0</td>\n",
       "      <td>0.0</td>\n",
       "      <td>5.0</td>\n",
       "      <td>1.0</td>\n",
       "      <td>0.0</td>\n",
       "      <td>7.0</td>\n",
       "      <td>1.0</td>\n",
       "      <td>6</td>\n",
       "    </tr>\n",
       "    <tr>\n",
       "      <th>...</th>\n",
       "      <td>...</td>\n",
       "      <td>...</td>\n",
       "      <td>...</td>\n",
       "      <td>...</td>\n",
       "      <td>...</td>\n",
       "      <td>...</td>\n",
       "      <td>...</td>\n",
       "      <td>...</td>\n",
       "      <td>...</td>\n",
       "      <td>...</td>\n",
       "      <td>...</td>\n",
       "      <td>...</td>\n",
       "      <td>...</td>\n",
       "      <td>...</td>\n",
       "    </tr>\n",
       "    <tr>\n",
       "      <th>217091</th>\n",
       "      <td>0.0</td>\n",
       "      <td>0.0</td>\n",
       "      <td>1.0</td>\n",
       "      <td>31.0</td>\n",
       "      <td>0.0</td>\n",
       "      <td>0.0</td>\n",
       "      <td>1.0</td>\n",
       "      <td>0.0</td>\n",
       "      <td>3.0</td>\n",
       "      <td>0.0</td>\n",
       "      <td>1.0</td>\n",
       "      <td>4.0</td>\n",
       "      <td>1.0</td>\n",
       "      <td>1</td>\n",
       "    </tr>\n",
       "    <tr>\n",
       "      <th>134394</th>\n",
       "      <td>0.0</td>\n",
       "      <td>0.0</td>\n",
       "      <td>1.0</td>\n",
       "      <td>29.0</td>\n",
       "      <td>1.0</td>\n",
       "      <td>0.0</td>\n",
       "      <td>0.0</td>\n",
       "      <td>0.0</td>\n",
       "      <td>3.0</td>\n",
       "      <td>0.0</td>\n",
       "      <td>0.0</td>\n",
       "      <td>9.0</td>\n",
       "      <td>1.0</td>\n",
       "      <td>2</td>\n",
       "    </tr>\n",
       "    <tr>\n",
       "      <th>209330</th>\n",
       "      <td>0.0</td>\n",
       "      <td>0.0</td>\n",
       "      <td>0.0</td>\n",
       "      <td>26.0</td>\n",
       "      <td>0.0</td>\n",
       "      <td>0.0</td>\n",
       "      <td>0.0</td>\n",
       "      <td>0.0</td>\n",
       "      <td>2.0</td>\n",
       "      <td>0.0</td>\n",
       "      <td>0.0</td>\n",
       "      <td>3.0</td>\n",
       "      <td>1.0</td>\n",
       "      <td>6</td>\n",
       "    </tr>\n",
       "    <tr>\n",
       "      <th>179576</th>\n",
       "      <td>0.0</td>\n",
       "      <td>0.0</td>\n",
       "      <td>1.0</td>\n",
       "      <td>26.0</td>\n",
       "      <td>0.0</td>\n",
       "      <td>0.0</td>\n",
       "      <td>1.0</td>\n",
       "      <td>0.0</td>\n",
       "      <td>3.0</td>\n",
       "      <td>0.0</td>\n",
       "      <td>0.0</td>\n",
       "      <td>13.0</td>\n",
       "      <td>1.0</td>\n",
       "      <td>6</td>\n",
       "    </tr>\n",
       "    <tr>\n",
       "      <th>49036</th>\n",
       "      <td>0.0</td>\n",
       "      <td>0.0</td>\n",
       "      <td>1.0</td>\n",
       "      <td>26.0</td>\n",
       "      <td>1.0</td>\n",
       "      <td>0.0</td>\n",
       "      <td>1.0</td>\n",
       "      <td>0.0</td>\n",
       "      <td>3.0</td>\n",
       "      <td>0.0</td>\n",
       "      <td>1.0</td>\n",
       "      <td>8.0</td>\n",
       "      <td>1.0</td>\n",
       "      <td>1</td>\n",
       "    </tr>\n",
       "  </tbody>\n",
       "</table>\n",
       "<p>174667 rows × 14 columns</p>\n",
       "</div>"
      ],
      "text/plain": [
       "        Diabetes_binary  HighBP  HighChol   BMI  Smoker  Stroke  PhysActivity  \\\n",
       "153147              0.0     0.0       0.0  28.0     1.0     0.0           1.0   \n",
       "176137              0.0     1.0       0.0  23.0     1.0     0.0           1.0   \n",
       "175578              0.0     1.0       1.0  29.0     0.0     0.0           1.0   \n",
       "177887              0.0     1.0       1.0  39.0     0.0     0.0           0.0   \n",
       "182143              0.0     0.0       1.0  16.0     1.0     0.0           1.0   \n",
       "...                 ...     ...       ...   ...     ...     ...           ...   \n",
       "217091              0.0     0.0       1.0  31.0     0.0     0.0           1.0   \n",
       "134394              0.0     0.0       1.0  29.0     1.0     0.0           0.0   \n",
       "209330              0.0     0.0       0.0  26.0     0.0     0.0           0.0   \n",
       "179576              0.0     0.0       1.0  26.0     0.0     0.0           1.0   \n",
       "49036               0.0     0.0       1.0  26.0     1.0     0.0           1.0   \n",
       "\n",
       "        HvyAlcoholConsump  GenHlth  DiffWalk  Sex   Age  fruit_veggi  \\\n",
       "153147                0.0      2.0       0.0  1.0   2.0          1.0   \n",
       "176137                0.0      2.0       0.0  1.0  13.0          1.0   \n",
       "175578                0.0      1.0       0.0  1.0   9.0          1.0   \n",
       "177887                0.0      4.0       0.0  1.0   7.0          0.0   \n",
       "182143                0.0      5.0       1.0  0.0   7.0          1.0   \n",
       "...                   ...      ...       ...  ...   ...          ...   \n",
       "217091                0.0      3.0       0.0  1.0   4.0          1.0   \n",
       "134394                0.0      3.0       0.0  0.0   9.0          1.0   \n",
       "209330                0.0      2.0       0.0  0.0   3.0          1.0   \n",
       "179576                0.0      3.0       0.0  0.0  13.0          1.0   \n",
       "49036                 0.0      3.0       0.0  1.0   8.0          1.0   \n",
       "\n",
       "        PhysHlth_clust  \n",
       "153147               1  \n",
       "176137               1  \n",
       "175578               1  \n",
       "177887               1  \n",
       "182143               6  \n",
       "...                ...  \n",
       "217091               1  \n",
       "134394               2  \n",
       "209330               6  \n",
       "179576               6  \n",
       "49036                1  \n",
       "\n",
       "[174667 rows x 14 columns]"
      ]
     },
     "execution_count": 9,
     "metadata": {},
     "output_type": "execute_result"
    }
   ],
   "source": [
    "str_train_set[str_train_set['Diabetes_binary'] == 0.0]"
   ]
  },
  {
   "cell_type": "code",
   "execution_count": 10,
   "id": "91f450ab",
   "metadata": {
    "ExecuteTime": {
     "end_time": "2022-07-19T04:57:58.699416Z",
     "start_time": "2022-07-19T04:57:58.685010Z"
    },
    "hidden": true
   },
   "outputs": [],
   "source": [
    "X_train = str_train_set.drop('Diabetes_binary', axis=1)\n",
    "y_train = str_train_set['Diabetes_binary']\n",
    "\n",
    "X_test = str_test_set.drop('Diabetes_binary', axis=1)\n",
    "y_test = str_test_set['Diabetes_binary']"
   ]
  },
  {
   "cell_type": "code",
   "execution_count": 11,
   "id": "03ba1783",
   "metadata": {
    "ExecuteTime": {
     "end_time": "2022-07-19T04:57:59.042409Z",
     "start_time": "2022-07-19T04:57:58.977406Z"
    },
    "hidden": true
   },
   "outputs": [
    {
     "data": {
      "text/html": [
       "<div>\n",
       "<style scoped>\n",
       "    .dataframe tbody tr th:only-of-type {\n",
       "        vertical-align: middle;\n",
       "    }\n",
       "\n",
       "    .dataframe tbody tr th {\n",
       "        vertical-align: top;\n",
       "    }\n",
       "\n",
       "    .dataframe thead th {\n",
       "        text-align: right;\n",
       "    }\n",
       "</style>\n",
       "<table border=\"1\" class=\"dataframe\">\n",
       "  <thead>\n",
       "    <tr style=\"text-align: right;\">\n",
       "      <th></th>\n",
       "      <th>HighBP</th>\n",
       "      <th>HighChol</th>\n",
       "      <th>BMI</th>\n",
       "      <th>Smoker</th>\n",
       "      <th>Stroke</th>\n",
       "      <th>PhysActivity</th>\n",
       "      <th>HvyAlcoholConsump</th>\n",
       "      <th>GenHlth</th>\n",
       "      <th>DiffWalk</th>\n",
       "      <th>Sex</th>\n",
       "      <th>Age</th>\n",
       "      <th>fruit_veggi</th>\n",
       "      <th>PhysHlth_clust</th>\n",
       "    </tr>\n",
       "  </thead>\n",
       "  <tbody>\n",
       "    <tr>\n",
       "      <th>128677</th>\n",
       "      <td>1.0</td>\n",
       "      <td>1.0</td>\n",
       "      <td>28.0</td>\n",
       "      <td>0.0</td>\n",
       "      <td>0.0</td>\n",
       "      <td>1.0</td>\n",
       "      <td>0.0</td>\n",
       "      <td>3.0</td>\n",
       "      <td>0.0</td>\n",
       "      <td>1.0</td>\n",
       "      <td>5.0</td>\n",
       "      <td>1.0</td>\n",
       "      <td>1</td>\n",
       "    </tr>\n",
       "    <tr>\n",
       "      <th>225051</th>\n",
       "      <td>1.0</td>\n",
       "      <td>0.0</td>\n",
       "      <td>36.0</td>\n",
       "      <td>1.0</td>\n",
       "      <td>0.0</td>\n",
       "      <td>0.0</td>\n",
       "      <td>0.0</td>\n",
       "      <td>3.0</td>\n",
       "      <td>1.0</td>\n",
       "      <td>0.0</td>\n",
       "      <td>10.0</td>\n",
       "      <td>1.0</td>\n",
       "      <td>1</td>\n",
       "    </tr>\n",
       "    <tr>\n",
       "      <th>27174</th>\n",
       "      <td>0.0</td>\n",
       "      <td>0.0</td>\n",
       "      <td>27.0</td>\n",
       "      <td>0.0</td>\n",
       "      <td>0.0</td>\n",
       "      <td>1.0</td>\n",
       "      <td>0.0</td>\n",
       "      <td>2.0</td>\n",
       "      <td>0.0</td>\n",
       "      <td>0.0</td>\n",
       "      <td>5.0</td>\n",
       "      <td>1.0</td>\n",
       "      <td>1</td>\n",
       "    </tr>\n",
       "    <tr>\n",
       "      <th>132371</th>\n",
       "      <td>0.0</td>\n",
       "      <td>0.0</td>\n",
       "      <td>22.0</td>\n",
       "      <td>0.0</td>\n",
       "      <td>0.0</td>\n",
       "      <td>1.0</td>\n",
       "      <td>0.0</td>\n",
       "      <td>2.0</td>\n",
       "      <td>0.0</td>\n",
       "      <td>0.0</td>\n",
       "      <td>11.0</td>\n",
       "      <td>1.0</td>\n",
       "      <td>1</td>\n",
       "    </tr>\n",
       "    <tr>\n",
       "      <th>164896</th>\n",
       "      <td>1.0</td>\n",
       "      <td>1.0</td>\n",
       "      <td>26.0</td>\n",
       "      <td>1.0</td>\n",
       "      <td>0.0</td>\n",
       "      <td>1.0</td>\n",
       "      <td>0.0</td>\n",
       "      <td>4.0</td>\n",
       "      <td>0.0</td>\n",
       "      <td>0.0</td>\n",
       "      <td>13.0</td>\n",
       "      <td>1.0</td>\n",
       "      <td>3</td>\n",
       "    </tr>\n",
       "    <tr>\n",
       "      <th>...</th>\n",
       "      <td>...</td>\n",
       "      <td>...</td>\n",
       "      <td>...</td>\n",
       "      <td>...</td>\n",
       "      <td>...</td>\n",
       "      <td>...</td>\n",
       "      <td>...</td>\n",
       "      <td>...</td>\n",
       "      <td>...</td>\n",
       "      <td>...</td>\n",
       "      <td>...</td>\n",
       "      <td>...</td>\n",
       "      <td>...</td>\n",
       "    </tr>\n",
       "    <tr>\n",
       "      <th>48574</th>\n",
       "      <td>0.0</td>\n",
       "      <td>0.0</td>\n",
       "      <td>25.0</td>\n",
       "      <td>0.0</td>\n",
       "      <td>0.0</td>\n",
       "      <td>1.0</td>\n",
       "      <td>1.0</td>\n",
       "      <td>1.0</td>\n",
       "      <td>0.0</td>\n",
       "      <td>1.0</td>\n",
       "      <td>6.0</td>\n",
       "      <td>1.0</td>\n",
       "      <td>1</td>\n",
       "    </tr>\n",
       "    <tr>\n",
       "      <th>230352</th>\n",
       "      <td>1.0</td>\n",
       "      <td>1.0</td>\n",
       "      <td>31.0</td>\n",
       "      <td>0.0</td>\n",
       "      <td>0.0</td>\n",
       "      <td>1.0</td>\n",
       "      <td>0.0</td>\n",
       "      <td>2.0</td>\n",
       "      <td>0.0</td>\n",
       "      <td>0.0</td>\n",
       "      <td>9.0</td>\n",
       "      <td>1.0</td>\n",
       "      <td>2</td>\n",
       "    </tr>\n",
       "    <tr>\n",
       "      <th>134904</th>\n",
       "      <td>0.0</td>\n",
       "      <td>0.0</td>\n",
       "      <td>25.0</td>\n",
       "      <td>0.0</td>\n",
       "      <td>0.0</td>\n",
       "      <td>1.0</td>\n",
       "      <td>0.0</td>\n",
       "      <td>1.0</td>\n",
       "      <td>0.0</td>\n",
       "      <td>1.0</td>\n",
       "      <td>1.0</td>\n",
       "      <td>1.0</td>\n",
       "      <td>1</td>\n",
       "    </tr>\n",
       "    <tr>\n",
       "      <th>1376</th>\n",
       "      <td>1.0</td>\n",
       "      <td>0.0</td>\n",
       "      <td>22.0</td>\n",
       "      <td>0.0</td>\n",
       "      <td>0.0</td>\n",
       "      <td>0.0</td>\n",
       "      <td>0.0</td>\n",
       "      <td>5.0</td>\n",
       "      <td>1.0</td>\n",
       "      <td>0.0</td>\n",
       "      <td>12.0</td>\n",
       "      <td>1.0</td>\n",
       "      <td>6</td>\n",
       "    </tr>\n",
       "    <tr>\n",
       "      <th>69400</th>\n",
       "      <td>0.0</td>\n",
       "      <td>0.0</td>\n",
       "      <td>27.0</td>\n",
       "      <td>0.0</td>\n",
       "      <td>0.0</td>\n",
       "      <td>1.0</td>\n",
       "      <td>0.0</td>\n",
       "      <td>1.0</td>\n",
       "      <td>0.0</td>\n",
       "      <td>0.0</td>\n",
       "      <td>7.0</td>\n",
       "      <td>1.0</td>\n",
       "      <td>1</td>\n",
       "    </tr>\n",
       "  </tbody>\n",
       "</table>\n",
       "<p>50736 rows × 13 columns</p>\n",
       "</div>"
      ],
      "text/plain": [
       "        HighBP  HighChol   BMI  Smoker  Stroke  PhysActivity  \\\n",
       "128677     1.0       1.0  28.0     0.0     0.0           1.0   \n",
       "225051     1.0       0.0  36.0     1.0     0.0           0.0   \n",
       "27174      0.0       0.0  27.0     0.0     0.0           1.0   \n",
       "132371     0.0       0.0  22.0     0.0     0.0           1.0   \n",
       "164896     1.0       1.0  26.0     1.0     0.0           1.0   \n",
       "...        ...       ...   ...     ...     ...           ...   \n",
       "48574      0.0       0.0  25.0     0.0     0.0           1.0   \n",
       "230352     1.0       1.0  31.0     0.0     0.0           1.0   \n",
       "134904     0.0       0.0  25.0     0.0     0.0           1.0   \n",
       "1376       1.0       0.0  22.0     0.0     0.0           0.0   \n",
       "69400      0.0       0.0  27.0     0.0     0.0           1.0   \n",
       "\n",
       "        HvyAlcoholConsump  GenHlth  DiffWalk  Sex   Age  fruit_veggi  \\\n",
       "128677                0.0      3.0       0.0  1.0   5.0          1.0   \n",
       "225051                0.0      3.0       1.0  0.0  10.0          1.0   \n",
       "27174                 0.0      2.0       0.0  0.0   5.0          1.0   \n",
       "132371                0.0      2.0       0.0  0.0  11.0          1.0   \n",
       "164896                0.0      4.0       0.0  0.0  13.0          1.0   \n",
       "...                   ...      ...       ...  ...   ...          ...   \n",
       "48574                 1.0      1.0       0.0  1.0   6.0          1.0   \n",
       "230352                0.0      2.0       0.0  0.0   9.0          1.0   \n",
       "134904                0.0      1.0       0.0  1.0   1.0          1.0   \n",
       "1376                  0.0      5.0       1.0  0.0  12.0          1.0   \n",
       "69400                 0.0      1.0       0.0  0.0   7.0          1.0   \n",
       "\n",
       "        PhysHlth_clust  \n",
       "128677               1  \n",
       "225051               1  \n",
       "27174                1  \n",
       "132371               1  \n",
       "164896               3  \n",
       "...                ...  \n",
       "48574                1  \n",
       "230352               2  \n",
       "134904               1  \n",
       "1376                 6  \n",
       "69400                1  \n",
       "\n",
       "[50736 rows x 13 columns]"
      ]
     },
     "execution_count": 11,
     "metadata": {},
     "output_type": "execute_result"
    }
   ],
   "source": [
    "str_test_set.drop('Diabetes_binary', axis=1)"
   ]
  },
  {
   "cell_type": "markdown",
   "id": "6e585975",
   "metadata": {
    "ExecuteTime": {
     "end_time": "2022-06-05T02:19:34.573610Z",
     "start_time": "2022-06-05T02:19:34.569649Z"
    },
    "heading_collapsed": true,
    "hidden": true
   },
   "source": [
    "## 3.20 SMOTE"
   ]
  },
  {
   "cell_type": "code",
   "execution_count": 12,
   "id": "32166ca1",
   "metadata": {
    "ExecuteTime": {
     "end_time": "2022-07-19T04:58:01.588973Z",
     "start_time": "2022-07-19T04:57:59.841857Z"
    },
    "hidden": true
   },
   "outputs": [],
   "source": [
    "oversample = SMOTE()\n",
    "X_train, y_train = oversample.fit_resample(X_train, y_train)"
   ]
  },
  {
   "cell_type": "markdown",
   "id": "7bc546e3",
   "metadata": {
    "heading_collapsed": true,
    "hidden": true
   },
   "source": [
    "## 3.30 Standardization"
   ]
  },
  {
   "cell_type": "markdown",
   "id": "74a49ad8",
   "metadata": {
    "hidden": true
   },
   "source": [
    "Use pickle to save Standardization pattern for future use in upcoming predictions"
   ]
  },
  {
   "cell_type": "code",
   "execution_count": 13,
   "id": "f641a6e9",
   "metadata": {
    "ExecuteTime": {
     "end_time": "2022-07-19T04:58:01.700150Z",
     "start_time": "2022-07-19T04:58:01.591969Z"
    },
    "hidden": true
   },
   "outputs": [],
   "source": [
    "sc = StandardScaler()\n",
    "X_train = sc.fit_transform(X_train)\n",
    "#pickle.dump( sc, open( 'parameter/sc.pkl', 'wb' ) )\n",
    "X_test = sc.transform(X_test)"
   ]
  },
  {
   "cell_type": "markdown",
   "id": "dc5a46f3",
   "metadata": {},
   "source": [
    "# 4 Fine tuning"
   ]
  },
  {
   "cell_type": "code",
   "execution_count": 14,
   "id": "83a24f52",
   "metadata": {
    "ExecuteTime": {
     "end_time": "2022-07-19T04:58:01.855023Z",
     "start_time": "2022-07-19T04:58:01.850496Z"
    }
   },
   "outputs": [],
   "source": [
    "param = {\n",
    "    'max_iter': [100, 1500, 1700, 2500, 3000, 3500, 10000],\n",
    "    'penalty': ['l2', 'l1'],\n",
    "    'C': [0.05, 0.25, 0.5, 1, 2, 4, 20],\n",
    "    'multi_class': ['auto', 'ovr']\n",
    "        }\n",
    "\n",
    "MAX_EVAL = 25"
   ]
  },
  {
   "cell_type": "code",
   "execution_count": 15,
   "id": "284eadcf",
   "metadata": {
    "ExecuteTime": {
     "end_time": "2022-07-19T04:58:23.021026Z",
     "start_time": "2022-07-19T04:58:06.000553Z"
    }
   },
   "outputs": [],
   "source": [
    "final_result = pd.DataFrame()\n",
    "\n",
    "\n",
    "for i in range( MAX_EVAL ):\n",
    "    start = time()\n",
    "    # choose values for parameters randomly\n",
    "    hp = { k: random.sample( v, 1 )[0] for k, v in param.items() }\n",
    "\n",
    "    # model\n",
    "    fine_model = LogisticRegression(solver = 'liblinear',\n",
    "                                  max_iter = hp['max_iter'], \n",
    "                                  penalty = hp['penalty'], \n",
    "                                  C = hp['C'], \n",
    "                                  multi_class = hp['multi_class']).fit(X_train, y_train)\n",
    "\n",
    "    # performance\n",
    "    y_lr_pred = fine_model.predict(X_test)\n",
    "    score_lr= accuracy_score(y_test,y_lr_pred)*100\n",
    "    stop = time()\n",
    "    \n",
    "    hp['precision'] = score_lr\n",
    "    final_result = final_result.append(hp, ignore_index=True)"
   ]
  },
  {
   "cell_type": "code",
   "execution_count": 16,
   "id": "f2b16ff2",
   "metadata": {
    "ExecuteTime": {
     "end_time": "2022-07-19T04:58:23.079485Z",
     "start_time": "2022-07-19T04:58:23.025167Z"
    }
   },
   "outputs": [
    {
     "data": {
      "text/html": [
       "<div>\n",
       "<style scoped>\n",
       "    .dataframe tbody tr th:only-of-type {\n",
       "        vertical-align: middle;\n",
       "    }\n",
       "\n",
       "    .dataframe tbody tr th {\n",
       "        vertical-align: top;\n",
       "    }\n",
       "\n",
       "    .dataframe thead th {\n",
       "        text-align: right;\n",
       "    }\n",
       "</style>\n",
       "<table border=\"1\" class=\"dataframe\">\n",
       "  <thead>\n",
       "    <tr style=\"text-align: right;\">\n",
       "      <th></th>\n",
       "      <th>C</th>\n",
       "      <th>max_iter</th>\n",
       "      <th>multi_class</th>\n",
       "      <th>penalty</th>\n",
       "      <th>precision</th>\n",
       "    </tr>\n",
       "  </thead>\n",
       "  <tbody>\n",
       "    <tr>\n",
       "      <th>0</th>\n",
       "      <td>1.00</td>\n",
       "      <td>2500.0</td>\n",
       "      <td>ovr</td>\n",
       "      <td>l1</td>\n",
       "      <td>72.829943</td>\n",
       "    </tr>\n",
       "    <tr>\n",
       "      <th>10</th>\n",
       "      <td>20.00</td>\n",
       "      <td>3500.0</td>\n",
       "      <td>auto</td>\n",
       "      <td>l2</td>\n",
       "      <td>72.829943</td>\n",
       "    </tr>\n",
       "    <tr>\n",
       "      <th>23</th>\n",
       "      <td>4.00</td>\n",
       "      <td>2500.0</td>\n",
       "      <td>ovr</td>\n",
       "      <td>l1</td>\n",
       "      <td>72.829943</td>\n",
       "    </tr>\n",
       "    <tr>\n",
       "      <th>22</th>\n",
       "      <td>4.00</td>\n",
       "      <td>3000.0</td>\n",
       "      <td>auto</td>\n",
       "      <td>l1</td>\n",
       "      <td>72.829943</td>\n",
       "    </tr>\n",
       "    <tr>\n",
       "      <th>21</th>\n",
       "      <td>20.00</td>\n",
       "      <td>2500.0</td>\n",
       "      <td>auto</td>\n",
       "      <td>l2</td>\n",
       "      <td>72.829943</td>\n",
       "    </tr>\n",
       "    <tr>\n",
       "      <th>16</th>\n",
       "      <td>2.00</td>\n",
       "      <td>2500.0</td>\n",
       "      <td>ovr</td>\n",
       "      <td>l1</td>\n",
       "      <td>72.829943</td>\n",
       "    </tr>\n",
       "    <tr>\n",
       "      <th>15</th>\n",
       "      <td>2.00</td>\n",
       "      <td>1500.0</td>\n",
       "      <td>auto</td>\n",
       "      <td>l2</td>\n",
       "      <td>72.829943</td>\n",
       "    </tr>\n",
       "    <tr>\n",
       "      <th>14</th>\n",
       "      <td>20.00</td>\n",
       "      <td>3500.0</td>\n",
       "      <td>ovr</td>\n",
       "      <td>l1</td>\n",
       "      <td>72.829943</td>\n",
       "    </tr>\n",
       "    <tr>\n",
       "      <th>1</th>\n",
       "      <td>0.50</td>\n",
       "      <td>1700.0</td>\n",
       "      <td>auto</td>\n",
       "      <td>l2</td>\n",
       "      <td>72.829943</td>\n",
       "    </tr>\n",
       "    <tr>\n",
       "      <th>12</th>\n",
       "      <td>20.00</td>\n",
       "      <td>10000.0</td>\n",
       "      <td>ovr</td>\n",
       "      <td>l1</td>\n",
       "      <td>72.829943</td>\n",
       "    </tr>\n",
       "    <tr>\n",
       "      <th>9</th>\n",
       "      <td>0.25</td>\n",
       "      <td>3500.0</td>\n",
       "      <td>auto</td>\n",
       "      <td>l2</td>\n",
       "      <td>72.829943</td>\n",
       "    </tr>\n",
       "    <tr>\n",
       "      <th>7</th>\n",
       "      <td>0.25</td>\n",
       "      <td>3500.0</td>\n",
       "      <td>auto</td>\n",
       "      <td>l2</td>\n",
       "      <td>72.829943</td>\n",
       "    </tr>\n",
       "    <tr>\n",
       "      <th>6</th>\n",
       "      <td>4.00</td>\n",
       "      <td>100.0</td>\n",
       "      <td>ovr</td>\n",
       "      <td>l2</td>\n",
       "      <td>72.829943</td>\n",
       "    </tr>\n",
       "    <tr>\n",
       "      <th>5</th>\n",
       "      <td>2.00</td>\n",
       "      <td>1500.0</td>\n",
       "      <td>auto</td>\n",
       "      <td>l1</td>\n",
       "      <td>72.829943</td>\n",
       "    </tr>\n",
       "    <tr>\n",
       "      <th>4</th>\n",
       "      <td>0.25</td>\n",
       "      <td>3500.0</td>\n",
       "      <td>ovr</td>\n",
       "      <td>l2</td>\n",
       "      <td>72.829943</td>\n",
       "    </tr>\n",
       "    <tr>\n",
       "      <th>3</th>\n",
       "      <td>2.00</td>\n",
       "      <td>100.0</td>\n",
       "      <td>auto</td>\n",
       "      <td>l2</td>\n",
       "      <td>72.829943</td>\n",
       "    </tr>\n",
       "    <tr>\n",
       "      <th>20</th>\n",
       "      <td>0.50</td>\n",
       "      <td>10000.0</td>\n",
       "      <td>ovr</td>\n",
       "      <td>l1</td>\n",
       "      <td>72.827972</td>\n",
       "    </tr>\n",
       "    <tr>\n",
       "      <th>24</th>\n",
       "      <td>0.50</td>\n",
       "      <td>3500.0</td>\n",
       "      <td>ovr</td>\n",
       "      <td>l1</td>\n",
       "      <td>72.824030</td>\n",
       "    </tr>\n",
       "    <tr>\n",
       "      <th>11</th>\n",
       "      <td>0.50</td>\n",
       "      <td>3500.0</td>\n",
       "      <td>auto</td>\n",
       "      <td>l1</td>\n",
       "      <td>72.822059</td>\n",
       "    </tr>\n",
       "    <tr>\n",
       "      <th>18</th>\n",
       "      <td>4.00</td>\n",
       "      <td>1700.0</td>\n",
       "      <td>auto</td>\n",
       "      <td>l1</td>\n",
       "      <td>72.822059</td>\n",
       "    </tr>\n",
       "    <tr>\n",
       "      <th>19</th>\n",
       "      <td>0.05</td>\n",
       "      <td>2500.0</td>\n",
       "      <td>auto</td>\n",
       "      <td>l1</td>\n",
       "      <td>72.822059</td>\n",
       "    </tr>\n",
       "    <tr>\n",
       "      <th>13</th>\n",
       "      <td>0.25</td>\n",
       "      <td>1700.0</td>\n",
       "      <td>ovr</td>\n",
       "      <td>l1</td>\n",
       "      <td>72.820088</td>\n",
       "    </tr>\n",
       "    <tr>\n",
       "      <th>17</th>\n",
       "      <td>0.25</td>\n",
       "      <td>10000.0</td>\n",
       "      <td>auto</td>\n",
       "      <td>l1</td>\n",
       "      <td>72.820088</td>\n",
       "    </tr>\n",
       "    <tr>\n",
       "      <th>8</th>\n",
       "      <td>0.05</td>\n",
       "      <td>3000.0</td>\n",
       "      <td>auto</td>\n",
       "      <td>l1</td>\n",
       "      <td>72.812204</td>\n",
       "    </tr>\n",
       "    <tr>\n",
       "      <th>2</th>\n",
       "      <td>0.05</td>\n",
       "      <td>100.0</td>\n",
       "      <td>ovr</td>\n",
       "      <td>l1</td>\n",
       "      <td>72.812204</td>\n",
       "    </tr>\n",
       "  </tbody>\n",
       "</table>\n",
       "</div>"
      ],
      "text/plain": [
       "        C  max_iter multi_class penalty  precision\n",
       "0    1.00    2500.0         ovr      l1  72.829943\n",
       "10  20.00    3500.0        auto      l2  72.829943\n",
       "23   4.00    2500.0         ovr      l1  72.829943\n",
       "22   4.00    3000.0        auto      l1  72.829943\n",
       "21  20.00    2500.0        auto      l2  72.829943\n",
       "16   2.00    2500.0         ovr      l1  72.829943\n",
       "15   2.00    1500.0        auto      l2  72.829943\n",
       "14  20.00    3500.0         ovr      l1  72.829943\n",
       "1    0.50    1700.0        auto      l2  72.829943\n",
       "12  20.00   10000.0         ovr      l1  72.829943\n",
       "9    0.25    3500.0        auto      l2  72.829943\n",
       "7    0.25    3500.0        auto      l2  72.829943\n",
       "6    4.00     100.0         ovr      l2  72.829943\n",
       "5    2.00    1500.0        auto      l1  72.829943\n",
       "4    0.25    3500.0         ovr      l2  72.829943\n",
       "3    2.00     100.0        auto      l2  72.829943\n",
       "20   0.50   10000.0         ovr      l1  72.827972\n",
       "24   0.50    3500.0         ovr      l1  72.824030\n",
       "11   0.50    3500.0        auto      l1  72.822059\n",
       "18   4.00    1700.0        auto      l1  72.822059\n",
       "19   0.05    2500.0        auto      l1  72.822059\n",
       "13   0.25    1700.0         ovr      l1  72.820088\n",
       "17   0.25   10000.0        auto      l1  72.820088\n",
       "8    0.05    3000.0        auto      l1  72.812204\n",
       "2    0.05     100.0         ovr      l1  72.812204"
      ]
     },
     "execution_count": 16,
     "metadata": {},
     "output_type": "execute_result"
    }
   ],
   "source": [
    "final_result.sort_values(by=['precision'], ascending=False)"
   ]
  },
  {
   "cell_type": "code",
   "execution_count": 17,
   "id": "57904226",
   "metadata": {
    "ExecuteTime": {
     "end_time": "2022-07-19T04:58:26.587619Z",
     "start_time": "2022-07-19T04:58:26.580263Z"
    }
   },
   "outputs": [],
   "source": [
    "param_tuned = {\n",
    "    'max_iter': final_result['max_iter'].head(1),\n",
    "    'penalty': final_result['penalty'].head(1),\n",
    "    'C': final_result['C'].head(1),\n",
    "    'multi_class': final_result['multi_class'].head(1)\n",
    "        }"
   ]
  },
  {
   "cell_type": "code",
   "execution_count": 18,
   "id": "f4e38509",
   "metadata": {
    "ExecuteTime": {
     "end_time": "2022-07-19T04:58:28.070197Z",
     "start_time": "2022-07-19T04:58:27.446648Z"
    }
   },
   "outputs": [],
   "source": [
    "final_model = LogisticRegression(solver = 'liblinear',\n",
    "                              max_iter = param_tuned['max_iter'][0], \n",
    "                              penalty = param_tuned['penalty'][0], \n",
    "                              C = param_tuned['C'][0], \n",
    "                              multi_class = param_tuned['multi_class'][0]).fit(X_train, y_train)"
   ]
  },
  {
   "cell_type": "markdown",
   "id": "84254bc1",
   "metadata": {},
   "source": [
    "## 4.1 Fine tuned performance"
   ]
  },
  {
   "cell_type": "code",
   "execution_count": 19,
   "id": "faef020e",
   "metadata": {
    "ExecuteTime": {
     "end_time": "2022-07-19T04:58:30.757520Z",
     "start_time": "2022-07-19T04:58:30.460735Z"
    }
   },
   "outputs": [
    {
     "name": "stdout",
     "output_type": "stream",
     "text": [
      "MODEL PERFORMANCE:\n",
      "train accuracy score:  74.99270039560993\n",
      "test accuracy score:  72.82797224850205\n",
      "\n",
      " Confusion Matrix : \n",
      " [[31596 12071]\n",
      " [ 1715  5354]] \n",
      "\n",
      "Classiication Report : \n",
      "               precision    recall  f1-score   support\n",
      "\n",
      "         0.0       0.95      0.72      0.82     43667\n",
      "         1.0       0.31      0.76      0.44      7069\n",
      "\n",
      "    accuracy                           0.73     50736\n",
      "   macro avg       0.63      0.74      0.63     50736\n",
      "weighted avg       0.86      0.73      0.77     50736\n",
      "\n"
     ]
    }
   ],
   "source": [
    "y_lr_pred = final_model.predict(X_test)\n",
    "score_lr= accuracy_score(y_test,y_lr_pred)*100\n",
    "\n",
    "print(\"MODEL PERFORMANCE:\")\n",
    "print(\"train accuracy score: \",accuracy_score(y_train,final_model.predict(X_train))*100)\n",
    "print(\"test accuracy score: \",score_lr)\n",
    "\n",
    "print(f\"\\n Confusion Matrix : \\n {confusion_matrix(y_test,y_lr_pred)} \\n\")\n",
    "print(f\"Classiication Report : \\n {classification_report(y_test, y_lr_pred)}\")"
   ]
  },
  {
   "cell_type": "markdown",
   "id": "d75ee6b1",
   "metadata": {},
   "source": [
    "As we can see above, the model performance was not significantly impaired by our simplifying feature engineering"
   ]
  },
  {
   "cell_type": "markdown",
   "id": "212ddd53",
   "metadata": {},
   "source": [
    "## 4.2 Saving final model"
   ]
  },
  {
   "cell_type": "code",
   "execution_count": null,
   "id": "11904e53",
   "metadata": {
    "ExecuteTime": {
     "end_time": "2022-06-30T02:00:26.888971Z",
     "start_time": "2022-06-30T02:00:26.884313Z"
    }
   },
   "outputs": [],
   "source": [
    "# pickle.dump( final_model, open( 'model/Diabetes_predictor.pkl', 'wb' ) )"
   ]
  }
 ],
 "metadata": {
  "kernelspec": {
   "display_name": "Python 3",
   "language": "python",
   "name": "python3"
  },
  "language_info": {
   "codemirror_mode": {
    "name": "ipython",
    "version": 3
   },
   "file_extension": ".py",
   "mimetype": "text/x-python",
   "name": "python",
   "nbconvert_exporter": "python",
   "pygments_lexer": "ipython3",
   "version": "3.8.0"
  }
 },
 "nbformat": 4,
 "nbformat_minor": 5
}
